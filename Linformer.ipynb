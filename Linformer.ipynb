{
  "nbformat": 4,
  "nbformat_minor": 0,
  "metadata": {
    "colab": {
      "provenance": [],
      "include_colab_link": true
    },
    "kernelspec": {
      "name": "python3",
      "display_name": "Python 3"
    },
    "language_info": {
      "name": "python"
    },
    "accelerator": "GPU",
    "gpuClass": "standard"
  },
  "cells": [
    {
      "cell_type": "markdown",
      "metadata": {
        "id": "view-in-github",
        "colab_type": "text"
      },
      "source": [
        "<a href=\"https://colab.research.google.com/github/tmukande-debug/SR-SAN/blob/master/Linformer.ipynb\" target=\"_parent\"><img src=\"https://colab.research.google.com/assets/colab-badge.svg\" alt=\"Open In Colab\"/></a>"
      ]
    },
    {
      "cell_type": "code",
      "execution_count": null,
      "metadata": {
        "colab": {
          "base_uri": "https://localhost:8080/"
        },
        "id": "2xO1ELZ4lmx0",
        "outputId": "f92402b6-4468-4fdc-8853-61f884af846d"
      },
      "outputs": [
        {
          "output_type": "stream",
          "name": "stdout",
          "text": [
            "Cloning into 'SR-SAN'...\n",
            "remote: Enumerating objects: 128, done.\u001b[K\n",
            "remote: Counting objects: 100% (128/128), done.\u001b[K\n",
            "remote: Compressing objects: 100% (120/120), done.\u001b[K\n",
            "remote: Total 128 (delta 64), reused 6 (delta 1), pack-reused 0\u001b[K\n",
            "Receiving objects: 100% (128/128), 3.04 MiB | 3.89 MiB/s, done.\n",
            "Resolving deltas: 100% (64/64), done.\n"
          ]
        }
      ],
      "source": [
        "!git clone https://github.com/tmukande-debug/SR-SAN"
      ]
    },
    {
      "cell_type": "code",
      "source": [
        "%cd /content/SR-SAN"
      ],
      "metadata": {
        "colab": {
          "base_uri": "https://localhost:8080/"
        },
        "id": "lJuHnrN5l4xB",
        "outputId": "129e1281-f064-4f62-a67f-a0d488a3a572"
      },
      "execution_count": null,
      "outputs": [
        {
          "output_type": "stream",
          "name": "stdout",
          "text": [
            "/content/SR-SAN\n"
          ]
        }
      ]
    },
    {
      "cell_type": "code",
      "source": [
        "!pip install linformer_pytorch"
      ],
      "metadata": {
        "id": "01WysFDNnT4W"
      },
      "execution_count": null,
      "outputs": []
    },
    {
      "cell_type": "code",
      "source": [
        "#!pip install block-recurrent-transformer-pytorch"
      ],
      "metadata": {
        "id": "U0Na_zxAKrmJ"
      },
      "execution_count": null,
      "outputs": []
    },
    {
      "cell_type": "code",
      "source": [
        "!python main.py"
      ],
      "metadata": {
        "colab": {
          "base_uri": "https://localhost:8080/"
        },
        "id": "-MNKGWXFmDha",
        "outputId": "3c70a3d7-5732-41fa-b107-745aab8fcd35"
      },
      "execution_count": null,
      "outputs": [
        {
          "output_type": "stream",
          "name": "stdout",
          "text": [
            "Namespace(batchSize=100, dataset='sample', epoch=12, feedforward=32, hiddenSize=100, l2=1e-05, layer=1, lr=0.005, lr_dc=0.0001, lr_dc_step=10, nhead=6, patience=10, valid_portion=0.1, validation=False)\n",
            "-------------------------------------------------------\n",
            "epoch:  0\n",
            "start training:  2023-03-07 15:40:14.886168\n",
            "/content/SR-SAN/model.py:85: UserWarning: Creating a tensor from a list of numpy.ndarrays is extremely slow. Please consider converting the list to a single numpy.ndarray with numpy.array() before converting to a tensor. (Triggered internally at ../torch/csrc/utils/tensor_new.cpp:230.)\n",
            "  A = trans_to_cuda(torch.Tensor(A).float())\n",
            "[0/3751] Loss: 10.5363\n",
            "[751/3751] Loss: 5.4744\n",
            "[1502/3751] Loss: 5.0863\n",
            "[2253/3751] Loss: 5.5347\n",
            "[3004/3751] Loss: 5.1082\n",
            "\tLoss:\t20198.037\n",
            "start predicting:  2023-03-07 15:50:33.744613\n",
            "Best Result:\n",
            "\tRecall@20:\t64.9941\tMMR@20:\t26.8308\tEpoch:\t0,\t0\n",
            "-------------------------------------------------------\n",
            "epoch:  1\n",
            "start training:  2023-03-07 15:51:04.879589\n",
            "[0/3751] Loss: 4.7705\n",
            "[751/3751] Loss: 4.5631\n",
            "[1502/3751] Loss: 4.3489\n",
            "[2253/3751] Loss: 4.5366\n",
            "[3004/3751] Loss: 3.8005\n",
            "\tLoss:\t17226.932\n",
            "start predicting:  2023-03-07 16:01:23.037267\n",
            "Best Result:\n",
            "\tRecall@20:\t66.2900\tMMR@20:\t27.6179\tEpoch:\t1,\t1\n",
            "-------------------------------------------------------\n",
            "epoch:  2\n",
            "start training:  2023-03-07 16:01:52.620847\n",
            "[0/3751] Loss: 4.3269\n",
            "[751/3751] Loss: 4.2502\n",
            "[1502/3751] Loss: 4.4422\n",
            "[2253/3751] Loss: 4.5946\n",
            "[3004/3751] Loss: 4.8023\n",
            "\tLoss:\t16697.537\n",
            "start predicting:  2023-03-07 16:12:05.684638\n",
            "Best Result:\n",
            "\tRecall@20:\t66.8712\tMMR@20:\t27.7711\tEpoch:\t2,\t2\n",
            "-------------------------------------------------------\n",
            "epoch:  3\n",
            "start training:  2023-03-07 16:12:36.219869\n",
            "[0/3751] Loss: 4.0704\n",
            "[751/3751] Loss: 4.9371\n",
            "[1502/3751] Loss: 4.1508\n",
            "[2253/3751] Loss: 4.5053\n",
            "[3004/3751] Loss: 4.8581\n",
            "\tLoss:\t16506.936\n",
            "start predicting:  2023-03-07 16:23:07.023782\n",
            "Best Result:\n",
            "\tRecall@20:\t66.8712\tMMR@20:\t27.9024\tEpoch:\t2,\t3\n",
            "-------------------------------------------------------\n",
            "epoch:  4\n",
            "start training:  2023-03-07 16:23:38.281710\n",
            "[0/3751] Loss: 3.7673\n",
            "[751/3751] Loss: 4.3902\n",
            "[1502/3751] Loss: 4.1752\n",
            "[2253/3751] Loss: 4.3058\n",
            "[3004/3751] Loss: 4.9146\n",
            "\tLoss:\t16405.090\n",
            "start predicting:  2023-03-07 16:34:00.133275\n",
            "Best Result:\n",
            "\tRecall@20:\t66.9542\tMMR@20:\t28.2560\tEpoch:\t4,\t4\n",
            "-------------------------------------------------------\n",
            "epoch:  5\n",
            "start training:  2023-03-07 16:34:31.278350\n",
            "[0/3751] Loss: 3.9671\n",
            "[751/3751] Loss: 4.3932\n",
            "[1502/3751] Loss: 4.5255\n",
            "[2253/3751] Loss: 4.7516\n",
            "[3004/3751] Loss: 4.5709\n",
            "\tLoss:\t16334.859\n",
            "start predicting:  2023-03-07 16:44:50.443350\n",
            "Best Result:\n",
            "\tRecall@20:\t67.3369\tMMR@20:\t28.2560\tEpoch:\t5,\t4\n",
            "-------------------------------------------------------\n",
            "epoch:  6\n",
            "start training:  2023-03-07 16:45:21.215707\n",
            "[0/3751] Loss: 4.1122\n",
            "[751/3751] Loss: 4.1145\n",
            "[1502/3751] Loss: 4.8710\n",
            "[2253/3751] Loss: 4.9069\n",
            "[3004/3751] Loss: 5.0158\n",
            "\tLoss:\t16293.564\n",
            "start predicting:  2023-03-07 16:55:39.210350\n",
            "Best Result:\n",
            "\tRecall@20:\t67.5444\tMMR@20:\t28.2560\tEpoch:\t6,\t4\n",
            "-------------------------------------------------------\n",
            "epoch:  7\n",
            "start training:  2023-03-07 16:56:09.537681\n",
            "[0/3751] Loss: 4.4789\n",
            "[751/3751] Loss: 3.8610\n",
            "[1502/3751] Loss: 4.1803\n",
            "[2253/3751] Loss: 4.5702\n",
            "[3004/3751] Loss: 4.8265\n",
            "\tLoss:\t16255.959\n",
            "start predicting:  2023-03-07 17:06:26.465492\n",
            "Best Result:\n",
            "\tRecall@20:\t67.5444\tMMR@20:\t28.2560\tEpoch:\t6,\t4\n",
            "-------------------------------------------------------\n",
            "epoch:  8\n",
            "start training:  2023-03-07 17:06:56.196741\n",
            "[0/3751] Loss: 4.0944\n",
            "[751/3751] Loss: 4.0005\n",
            "[1502/3751] Loss: 4.1483\n",
            "[2253/3751] Loss: 4.1948\n",
            "[3004/3751] Loss: 4.3021\n",
            "\tLoss:\t16231.120\n",
            "start predicting:  2023-03-07 17:17:12.515807\n",
            "Best Result:\n",
            "\tRecall@20:\t67.5444\tMMR@20:\t28.3250\tEpoch:\t6,\t8\n",
            "-------------------------------------------------------\n",
            "epoch:  9\n",
            "start training:  2023-03-07 17:17:42.638780\n",
            "[0/3751] Loss: 4.1778\n",
            "[751/3751] Loss: 4.4045\n",
            "[1502/3751] Loss: 3.9527\n",
            "[2253/3751] Loss: 4.2246\n",
            "[3004/3751] Loss: 4.6953\n",
            "\tLoss:\t16203.722\n",
            "start predicting:  2023-03-07 17:27:59.965345\n",
            "Best Result:\n",
            "\tRecall@20:\t67.5444\tMMR@20:\t28.3250\tEpoch:\t6,\t8\n",
            "-------------------------------------------------------\n",
            "epoch:  10\n",
            "start training:  2023-03-07 17:28:30.927409\n",
            "[0/3751] Loss: 4.1787\n",
            "[751/3751] Loss: 3.9905\n",
            "[1502/3751] Loss: 4.2974\n",
            "[2253/3751] Loss: 4.4825\n",
            "[3004/3751] Loss: 4.0002\n",
            "\tLoss:\t15469.075\n",
            "start predicting:  2023-03-07 17:38:43.613167\n",
            "Best Result:\n",
            "\tRecall@20:\t67.5444\tMMR@20:\t28.3250\tEpoch:\t6,\t8\n",
            "-------------------------------------------------------\n",
            "epoch:  11\n",
            "start training:  2023-03-07 17:39:12.767674\n",
            "[0/3751] Loss: 3.7766\n",
            "[751/3751] Loss: 4.3126\n",
            "[1502/3751] Loss: 3.3563\n",
            "[2253/3751] Loss: 4.4989\n",
            "Traceback (most recent call last):\n",
            "  File \"main.py\", line 81, in <module>\n",
            "    main()\n",
            "  File \"main.py\", line 60, in main\n",
            "    hit, mrr = train_test(model, train_data, test_data)\n",
            "  File \"/content/SR-SAN/model.py\", line 100, in train_test\n",
            "    targets, scores = forward(model, i, train_data)\n",
            "  File \"/content/SR-SAN/model.py\", line 85, in forward\n",
            "    A = trans_to_cuda(torch.Tensor(A).float())\n",
            "KeyboardInterrupt\n",
            "^C\n"
          ]
        }
      ]
    }
  ]
}