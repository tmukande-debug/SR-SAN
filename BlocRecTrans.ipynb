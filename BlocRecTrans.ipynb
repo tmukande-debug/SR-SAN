{
  "nbformat": 4,
  "nbformat_minor": 0,
  "metadata": {
    "colab": {
      "provenance": [],
      "authorship_tag": "ABX9TyOeQa0QgWf9d8WTlhRgkb9A",
      "include_colab_link": true
    },
    "kernelspec": {
      "name": "python3",
      "display_name": "Python 3"
    },
    "language_info": {
      "name": "python"
    },
    "accelerator": "GPU",
    "gpuClass": "standard"
  },
  "cells": [
    {
      "cell_type": "markdown",
      "metadata": {
        "id": "view-in-github",
        "colab_type": "text"
      },
      "source": [
        "<a href=\"https://colab.research.google.com/github/tmukande-debug/SR-SAN/blob/master/BlocRecTrans.ipynb\" target=\"_parent\"><img src=\"https://colab.research.google.com/assets/colab-badge.svg\" alt=\"Open In Colab\"/></a>"
      ]
    },
    {
      "cell_type": "code",
      "execution_count": 5,
      "metadata": {
        "colab": {
          "base_uri": "https://localhost:8080/"
        },
        "id": "2xO1ELZ4lmx0",
        "outputId": "2a996aa8-d02c-46a9-eef2-10c8e09ca28c"
      },
      "outputs": [
        {
          "output_type": "stream",
          "name": "stdout",
          "text": [
            "Cloning into 'SR-SAN'...\n",
            "remote: Enumerating objects: 70, done.\u001b[K\n",
            "remote: Counting objects: 100% (70/70), done.\u001b[K\n",
            "remote: Compressing objects: 100% (62/62), done.\u001b[K\n",
            "remote: Total 70 (delta 26), reused 6 (delta 1), pack-reused 0\u001b[K\n",
            "Unpacking objects: 100% (70/70), 3.03 MiB | 3.00 MiB/s, done.\n"
          ]
        }
      ],
      "source": [
        "!git clone https://github.com/tmukande-debug/SR-SAN"
      ]
    },
    {
      "cell_type": "code",
      "source": [
        "%cd /content/SR-SAN"
      ],
      "metadata": {
        "colab": {
          "base_uri": "https://localhost:8080/"
        },
        "id": "lJuHnrN5l4xB",
        "outputId": "640c2295-c7a6-41fd-ed3b-459f0af3c5f3"
      },
      "execution_count": 6,
      "outputs": [
        {
          "output_type": "stream",
          "name": "stdout",
          "text": [
            "/content/SR-SAN\n"
          ]
        }
      ]
    },
    {
      "cell_type": "code",
      "source": [
        "!pip install mega_pytorch"
      ],
      "metadata": {
        "colab": {
          "base_uri": "https://localhost:8080/"
        },
        "id": "01WysFDNnT4W",
        "outputId": "ad0424fe-c039-49df-8d15-50b67ffae572"
      },
      "execution_count": 7,
      "outputs": [
        {
          "output_type": "stream",
          "name": "stdout",
          "text": [
            "Looking in indexes: https://pypi.org/simple, https://us-python.pkg.dev/colab-wheels/public/simple/\n",
            "Requirement already satisfied: mega_pytorch in /usr/local/lib/python3.8/dist-packages (0.0.15)\n",
            "Requirement already satisfied: torch>=1.6 in /usr/local/lib/python3.8/dist-packages (from mega_pytorch) (1.13.1+cu116)\n",
            "Requirement already satisfied: einops>=0.4 in /usr/local/lib/python3.8/dist-packages (from mega_pytorch) (0.6.0)\n",
            "Requirement already satisfied: scipy in /usr/local/lib/python3.8/dist-packages (from mega_pytorch) (1.7.3)\n",
            "Requirement already satisfied: typing-extensions in /usr/local/lib/python3.8/dist-packages (from torch>=1.6->mega_pytorch) (4.5.0)\n",
            "Requirement already satisfied: numpy<1.23.0,>=1.16.5 in /usr/local/lib/python3.8/dist-packages (from scipy->mega_pytorch) (1.21.6)\n"
          ]
        }
      ]
    },
    {
      "cell_type": "code",
      "source": [
        "!pip install block-recurrent-transformer-pytorch"
      ],
      "metadata": {
        "colab": {
          "base_uri": "https://localhost:8080/"
        },
        "id": "U0Na_zxAKrmJ",
        "outputId": "f4306c0f-6ac8-4d0a-a72d-80502f926a90"
      },
      "execution_count": 8,
      "outputs": [
        {
          "output_type": "stream",
          "name": "stdout",
          "text": [
            "Looking in indexes: https://pypi.org/simple, https://us-python.pkg.dev/colab-wheels/public/simple/\n",
            "Collecting block-recurrent-transformer-pytorch\n",
            "  Downloading block_recurrent_transformer_pytorch-0.0.11-py3-none-any.whl (8.2 kB)\n",
            "Requirement already satisfied: torch>=1.6 in /usr/local/lib/python3.8/dist-packages (from block-recurrent-transformer-pytorch) (1.13.1+cu116)\n",
            "Requirement already satisfied: einops>=0.4 in /usr/local/lib/python3.8/dist-packages (from block-recurrent-transformer-pytorch) (0.6.0)\n",
            "Collecting beartype\n",
            "  Downloading beartype-0.12.0-py3-none-any.whl (754 kB)\n",
            "\u001b[2K     \u001b[90m━━━━━━━━━━━━━━━━━━━━━━━━━━━━━━━━━━━━━━\u001b[0m \u001b[32m754.5/754.5 KB\u001b[0m \u001b[31m15.0 MB/s\u001b[0m eta \u001b[36m0:00:00\u001b[0m\n",
            "\u001b[?25hRequirement already satisfied: typing-extensions in /usr/local/lib/python3.8/dist-packages (from torch>=1.6->block-recurrent-transformer-pytorch) (4.5.0)\n",
            "Installing collected packages: beartype, block-recurrent-transformer-pytorch\n",
            "Successfully installed beartype-0.12.0 block-recurrent-transformer-pytorch-0.0.11\n"
          ]
        }
      ]
    },
    {
      "cell_type": "code",
      "source": [
        "!python main.py"
      ],
      "metadata": {
        "colab": {
          "base_uri": "https://localhost:8080/"
        },
        "id": "-MNKGWXFmDha",
        "outputId": "dac485f6-675f-4d02-c49f-335382697592"
      },
      "execution_count": 9,
      "outputs": [
        {
          "output_type": "stream",
          "name": "stdout",
          "text": [
            "Namespace(batchSize=100, dataset='sample', epoch=12, feedforward=4, hiddenSize=96, l2=1e-05, layer=1, lr=0.001, lr_dc=0.1, lr_dc_step=3, nhead=2, patience=10, valid_portion=0.1, validation=False)\n",
            "-------------------------------------------------------\n",
            "epoch:  0\n",
            "start training:  2023-02-20 18:52:22.550703\n",
            "/content/SR-SAN/model2.py:69: UserWarning: Creating a tensor from a list of numpy.ndarrays is extremely slow. Please consider converting the list to a single numpy.ndarray with numpy.array() before converting to a tensor. (Triggered internally at ../torch/csrc/utils/tensor_new.cpp:230.)\n",
            "  A = trans_to_cuda(torch.Tensor(A).float())\n",
            "[0/3751] Loss: 10.5328\n",
            "[751/3751] Loss: 6.2059\n",
            "[1502/3751] Loss: 5.5578\n",
            "[2253/3751] Loss: 4.6866\n",
            "[3004/3751] Loss: 4.0575\n",
            "\tLoss:\t20341.746\n",
            "start predicting:  2023-02-20 19:00:15.646054\n",
            "Best Result:\n",
            "\tRecall@20:\t69.2537\tMMR@20:\t29.2620\tEpoch:\t0,\t0\n",
            "-------------------------------------------------------\n",
            "epoch:  1\n",
            "start training:  2023-02-20 19:00:40.890632\n",
            "[0/3751] Loss: 4.5539\n",
            "[751/3751] Loss: 4.4562\n",
            "[1502/3751] Loss: 4.8448\n",
            "[2253/3751] Loss: 4.1807\n",
            "[3004/3751] Loss: 3.8204\n",
            "\tLoss:\t15908.686\n",
            "start predicting:  2023-02-20 19:08:30.229519\n",
            "Best Result:\n",
            "\tRecall@20:\t70.8312\tMMR@20:\t30.0269\tEpoch:\t1,\t1\n",
            "-------------------------------------------------------\n",
            "epoch:  2\n",
            "start training:  2023-02-20 19:08:55.391711\n",
            "[0/3751] Loss: 4.1808\n",
            "[751/3751] Loss: 3.8250\n",
            "[1502/3751] Loss: 4.3102\n",
            "[2253/3751] Loss: 4.2720\n",
            "[3004/3751] Loss: 4.1230\n",
            "\tLoss:\t15119.902\n",
            "start predicting:  2023-02-20 19:16:47.310956\n",
            "Best Result:\n",
            "\tRecall@20:\t71.0405\tMMR@20:\t30.0269\tEpoch:\t2,\t1\n",
            "-------------------------------------------------------\n",
            "epoch:  3\n",
            "start training:  2023-02-20 19:17:12.072695\n",
            "[0/3751] Loss: 3.6413\n",
            "[751/3751] Loss: 4.2414\n",
            "[1502/3751] Loss: 3.8489\n",
            "[2253/3751] Loss: 3.8254\n",
            "[3004/3751] Loss: 3.4915\n",
            "\tLoss:\t13922.683\n",
            "start predicting:  2023-02-20 19:25:03.914229\n",
            "Best Result:\n",
            "\tRecall@20:\t71.9628\tMMR@20:\t31.3108\tEpoch:\t3,\t3\n",
            "-------------------------------------------------------\n",
            "epoch:  4\n",
            "start training:  2023-02-20 19:25:29.214678\n",
            "[0/3751] Loss: 3.7042\n",
            "[751/3751] Loss: 4.0145\n",
            "[1502/3751] Loss: 3.4342\n",
            "[2253/3751] Loss: 3.5177\n",
            "[3004/3751] Loss: 3.5737\n",
            "\tLoss:\t13700.589\n",
            "start predicting:  2023-02-20 19:33:20.209497\n",
            "Best Result:\n",
            "\tRecall@20:\t71.9628\tMMR@20:\t31.4275\tEpoch:\t3,\t4\n",
            "-------------------------------------------------------\n",
            "epoch:  5\n",
            "start training:  2023-02-20 19:33:45.413091\n",
            "[0/3751] Loss: 3.6951\n",
            "[751/3751] Loss: 3.3679\n",
            "[1502/3751] Loss: 3.6665\n",
            "[2253/3751] Loss: 3.9011\n",
            "[3004/3751] Loss: 3.1540\n",
            "\tLoss:\t13584.411\n",
            "start predicting:  2023-02-20 19:41:47.071318\n",
            "Best Result:\n",
            "\tRecall@20:\t71.9628\tMMR@20:\t31.4275\tEpoch:\t3,\t4\n",
            "-------------------------------------------------------\n",
            "epoch:  6\n",
            "start training:  2023-02-20 19:42:13.055575\n",
            "[0/3751] Loss: 3.4368\n",
            "[751/3751] Loss: 3.5805\n",
            "[1502/3751] Loss: 3.3489\n",
            "[2253/3751] Loss: 3.5484\n",
            "[3004/3751] Loss: 3.5598\n",
            "\tLoss:\t13373.959\n",
            "start predicting:  2023-02-20 19:50:08.339918\n",
            "Best Result:\n",
            "\tRecall@20:\t71.9628\tMMR@20:\t31.4275\tEpoch:\t3,\t4\n",
            "-------------------------------------------------------\n",
            "epoch:  7\n",
            "start training:  2023-02-20 19:50:33.545333\n",
            "[0/3751] Loss: 3.4637\n",
            "[751/3751] Loss: 3.0879\n",
            "[1502/3751] Loss: 3.4485\n",
            "[2253/3751] Loss: 3.5367\n",
            "[3004/3751] Loss: 3.4432\n",
            "\tLoss:\t13361.087\n",
            "start predicting:  2023-02-20 19:58:27.623683\n",
            "Best Result:\n",
            "\tRecall@20:\t71.9628\tMMR@20:\t31.4275\tEpoch:\t3,\t4\n",
            "-------------------------------------------------------\n",
            "epoch:  8\n",
            "start training:  2023-02-20 19:58:53.143562\n",
            "[0/3751] Loss: 3.6301\n",
            "[751/3751] Loss: 3.0739\n",
            "[1502/3751] Loss: 3.6079\n",
            "[2253/3751] Loss: 4.0077\n",
            "[3004/3751] Loss: 3.3039\n",
            "\tLoss:\t13348.877\n",
            "start predicting:  2023-02-20 20:06:48.459775\n",
            "Best Result:\n",
            "\tRecall@20:\t71.9628\tMMR@20:\t31.4275\tEpoch:\t3,\t4\n",
            "-------------------------------------------------------\n",
            "epoch:  9\n",
            "start training:  2023-02-20 20:07:13.489602\n",
            "[0/3751] Loss: 3.6982\n",
            "[751/3751] Loss: 3.5710\n",
            "[1502/3751] Loss: 3.4607\n",
            "[2253/3751] Loss: 3.9711\n",
            "[3004/3751] Loss: 3.4291\n",
            "\tLoss:\t13326.256\n",
            "start predicting:  2023-02-20 20:15:05.486357\n",
            "Best Result:\n",
            "\tRecall@20:\t71.9628\tMMR@20:\t31.4275\tEpoch:\t3,\t4\n",
            "-------------------------------------------------------\n",
            "epoch:  10\n",
            "start training:  2023-02-20 20:15:30.878861\n",
            "[0/3751] Loss: 3.9919\n",
            "[751/3751] Loss: 3.6186\n",
            "[1502/3751] Loss: 3.5328\n",
            "[2253/3751] Loss: 3.7132\n",
            "[3004/3751] Loss: 3.7464\n",
            "\tLoss:\t13322.548\n",
            "start predicting:  2023-02-20 20:23:23.034036\n",
            "Best Result:\n",
            "\tRecall@20:\t71.9628\tMMR@20:\t31.4275\tEpoch:\t3,\t4\n",
            "-------------------------------------------------------\n",
            "epoch:  11\n",
            "start training:  2023-02-20 20:23:49.554849\n",
            "[0/3751] Loss: 3.4406\n",
            "[751/3751] Loss: 3.3820\n",
            "[1502/3751] Loss: 3.3827\n",
            "[2253/3751] Loss: 3.5422\n",
            "[3004/3751] Loss: 3.6720\n",
            "\tLoss:\t13320.608\n",
            "start predicting:  2023-02-20 20:31:39.344807\n",
            "Best Result:\n",
            "\tRecall@20:\t71.9628\tMMR@20:\t31.4275\tEpoch:\t3,\t4\n",
            "-------------------------------------------------------\n",
            "Run time: 5982.099494 s\n"
          ]
        }
      ]
    }
  ]
}