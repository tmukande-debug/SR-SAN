{
  "nbformat": 4,
  "nbformat_minor": 0,
  "metadata": {
    "colab": {
      "provenance": [],
      "authorship_tag": "ABX9TyOYUgGP4yjZttCbpFCQlbaV",
      "include_colab_link": true
    },
    "kernelspec": {
      "name": "python3",
      "display_name": "Python 3"
    },
    "language_info": {
      "name": "python"
    },
    "accelerator": "GPU",
    "gpuClass": "standard"
  },
  "cells": [
    {
      "cell_type": "markdown",
      "metadata": {
        "id": "view-in-github",
        "colab_type": "text"
      },
      "source": [
        "<a href=\"https://colab.research.google.com/github/tmukande-debug/SR-SAN/blob/master/SR_SAN.ipynb\" target=\"_parent\"><img src=\"https://colab.research.google.com/assets/colab-badge.svg\" alt=\"Open In Colab\"/></a>"
      ]
    },
    {
      "cell_type": "code",
      "execution_count": 1,
      "metadata": {
        "colab": {
          "base_uri": "https://localhost:8080/"
        },
        "id": "2xO1ELZ4lmx0",
        "outputId": "2daae7e3-9a02-430d-a2e2-44ddfe5a30d0"
      },
      "outputs": [
        {
          "output_type": "stream",
          "name": "stdout",
          "text": [
            "Cloning into 'SR-SAN'...\n",
            "remote: Enumerating objects: 61, done.\u001b[K\n",
            "remote: Counting objects: 100% (61/61), done.\u001b[K\n",
            "remote: Compressing objects: 100% (53/53), done.\u001b[K\n",
            "remote: Total 61 (delta 21), reused 6 (delta 1), pack-reused 0\u001b[K\n",
            "Unpacking objects: 100% (61/61), 3.02 MiB | 2.42 MiB/s, done.\n"
          ]
        }
      ],
      "source": [
        "!git clone https://github.com/tmukande-debug/SR-SAN"
      ]
    },
    {
      "cell_type": "code",
      "source": [
        "%cd /content/SR-SAN"
      ],
      "metadata": {
        "colab": {
          "base_uri": "https://localhost:8080/"
        },
        "id": "lJuHnrN5l4xB",
        "outputId": "f31c33e5-54d3-47c4-b639-087afbf89350"
      },
      "execution_count": 2,
      "outputs": [
        {
          "output_type": "stream",
          "name": "stdout",
          "text": [
            "/content/SR-SAN\n"
          ]
        }
      ]
    },
    {
      "cell_type": "code",
      "source": [
        "!pip install mega_pytorch"
      ],
      "metadata": {
        "colab": {
          "base_uri": "https://localhost:8080/"
        },
        "id": "01WysFDNnT4W",
        "outputId": "693f1b1b-4a8c-45d6-d320-b2768e9ec86a"
      },
      "execution_count": 3,
      "outputs": [
        {
          "output_type": "stream",
          "name": "stdout",
          "text": [
            "Looking in indexes: https://pypi.org/simple, https://us-python.pkg.dev/colab-wheels/public/simple/\n",
            "Collecting mega_pytorch\n",
            "  Downloading Mega_pytorch-0.0.15-py3-none-any.whl (6.4 kB)\n",
            "Collecting einops>=0.4\n",
            "  Downloading einops-0.6.0-py3-none-any.whl (41 kB)\n",
            "\u001b[2K     \u001b[90m━━━━━━━━━━━━━━━━━━━━━━━━━━━━━━━━━━━━━━━━\u001b[0m \u001b[32m41.6/41.6 KB\u001b[0m \u001b[31m2.4 MB/s\u001b[0m eta \u001b[36m0:00:00\u001b[0m\n",
            "\u001b[?25hRequirement already satisfied: torch>=1.6 in /usr/local/lib/python3.8/dist-packages (from mega_pytorch) (1.13.1+cu116)\n",
            "Requirement already satisfied: scipy in /usr/local/lib/python3.8/dist-packages (from mega_pytorch) (1.7.3)\n",
            "Requirement already satisfied: typing-extensions in /usr/local/lib/python3.8/dist-packages (from torch>=1.6->mega_pytorch) (4.5.0)\n",
            "Requirement already satisfied: numpy<1.23.0,>=1.16.5 in /usr/local/lib/python3.8/dist-packages (from scipy->mega_pytorch) (1.21.6)\n",
            "Installing collected packages: einops, mega_pytorch\n",
            "Successfully installed einops-0.6.0 mega_pytorch-0.0.15\n"
          ]
        }
      ]
    },
    {
      "cell_type": "code",
      "source": [
        "!python main.py"
      ],
      "metadata": {
        "colab": {
          "base_uri": "https://localhost:8080/"
        },
        "id": "-MNKGWXFmDha",
        "outputId": "21847d51-f765-4621-d1a7-c0deb09de090"
      },
      "execution_count": 4,
      "outputs": [
        {
          "output_type": "stream",
          "name": "stdout",
          "text": [
            "Namespace(batchSize=100, dataset='sample', epoch=12, feedforward=4, hiddenSize=96, l2=1e-05, layer=1, lr=0.001, lr_dc=0.1, lr_dc_step=3, nhead=2, patience=10, valid_portion=0.1, validation=False)\n",
            "-------------------------------------------------------\n",
            "epoch:  0\n",
            "start training:  2023-02-20 18:12:00.528646\n",
            "/content/SR-SAN/model2.py:69: UserWarning: Creating a tensor from a list of numpy.ndarrays is extremely slow. Please consider converting the list to a single numpy.ndarray with numpy.array() before converting to a tensor. (Triggered internally at ../torch/csrc/utils/tensor_new.cpp:230.)\n",
            "  A = trans_to_cuda(torch.Tensor(A).float())\n",
            "[0/3751] Loss: 10.5333\n",
            "[751/3751] Loss: 6.1187\n",
            "[1502/3751] Loss: 5.2770\n",
            "[2253/3751] Loss: 4.7383\n",
            "[3004/3751] Loss: 4.6564\n",
            "\tLoss:\t20261.561\n",
            "start predicting:  2023-02-20 18:19:53.045321\n",
            "Best Result:\n",
            "\tRecall@20:\t69.0587\tMMR@20:\t29.1771\tEpoch:\t0,\t0\n",
            "-------------------------------------------------------\n",
            "epoch:  1\n",
            "start training:  2023-02-20 18:20:18.336014\n",
            "[0/3751] Loss: 4.4206\n",
            "[751/3751] Loss: 4.1705\n",
            "[1502/3751] Loss: 3.9991\n",
            "[2253/3751] Loss: 4.2627\n",
            "[3004/3751] Loss: 4.3958\n",
            "\tLoss:\t15897.054\n",
            "start predicting:  2023-02-20 18:28:09.545499\n",
            "Best Result:\n",
            "\tRecall@20:\t70.5532\tMMR@20:\t29.2691\tEpoch:\t1,\t1\n",
            "-------------------------------------------------------\n",
            "epoch:  2\n",
            "start training:  2023-02-20 18:28:34.902742\n",
            "[0/3751] Loss: 3.6888\n",
            "[751/3751] Loss: 4.3283\n",
            "[1502/3751] Loss: 3.6068\n",
            "[2253/3751] Loss: 4.4546\n",
            "[3004/3751] Loss: 3.9469\n",
            "\tLoss:\t15152.151\n",
            "start predicting:  2023-02-20 18:36:24.516504\n",
            "Best Result:\n",
            "\tRecall@20:\t70.9792\tMMR@20:\t30.2556\tEpoch:\t2,\t2\n",
            "-------------------------------------------------------\n",
            "epoch:  3\n",
            "start training:  2023-02-20 18:36:49.815908\n",
            "[0/3751] Loss: 3.7254\n",
            "Traceback (most recent call last):\n",
            "  File \"main.py\", line 81, in <module>\n",
            "    main()\n",
            "  File \"main.py\", line 60, in main\n",
            "    hit, mrr = train_test(model, train_data, test_data)\n",
            "  File \"/content/SR-SAN/model2.py\", line 84, in train_test\n",
            "    targets, scores = forward(model, i, train_data)\n",
            "  File \"/content/SR-SAN/model2.py\", line 69, in forward\n",
            "    A = trans_to_cuda(torch.Tensor(A).float())\n",
            "KeyboardInterrupt\n",
            "^C\n"
          ]
        }
      ]
    }
  ]
}